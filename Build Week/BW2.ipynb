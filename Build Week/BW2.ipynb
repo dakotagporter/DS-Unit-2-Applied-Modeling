{
 "cells": [
  {
   "cell_type": "markdown",
   "metadata": {},
   "source": [
    "# BUILD WEEK\n",
    "\n",
    "Dakota Porter 16 NOV 2020"
   ]
  },
  {
   "cell_type": "markdown",
   "metadata": {},
   "source": [
    "- This notebook contains a full machine learning workflow predicting the Manufacturer Suggested Retail Prices (MSRP) of just over 11,000 cars"
   ]
  },
  {
   "cell_type": "markdown",
   "metadata": {},
   "source": [
    "# Import Data and Packages"
   ]
  },
  {
   "cell_type": "code",
   "execution_count": 127,
   "metadata": {},
   "outputs": [],
   "source": [
    "import numpy as np\n",
    "import pandas as pd\n",
    "import matplotlib.pyplot as plt\n",
    "from xgboost import XGBRegressor\n",
    "from sklearn.impute import SimpleImputer\n",
    "from sklearn.pipeline import make_pipeline\n",
    "from category_encoders import OrdinalEncoder\n",
    "from sklearn.preprocessing import StandardScaler\n",
    "from sklearn.linear_model import LinearRegression\n",
    "from sklearn.model_selection import train_test_split\n",
    "from sklearn.ensemble import GradientBoostingRegressor\n",
    "from sklearn.metrics import mean_absolute_error, r2_score\n",
    "from sklearn.model_selection import RandomizedSearchCV, GridSearchCV"
   ]
  },
  {
   "cell_type": "code",
   "execution_count": 2,
   "metadata": {},
   "outputs": [],
   "source": [
    "## Import data from /data folder\n",
    "\n",
    "df_raw = pd.read_csv('../data/msrp.csv')"
   ]
  },
  {
   "cell_type": "markdown",
   "metadata": {},
   "source": [
    "# Exploratory Data Analysis\n",
    "\n",
    "- Explore distribution and types of data in this DataFrame\n",
    "- Look at target variable distribution\n",
    "- Search for outliers or possible points of data leakage\n",
    "- Look for features that may or may not be correlated with target variable\n",
    "- Inspect categorical columns"
   ]
  },
  {
   "cell_type": "code",
   "execution_count": 3,
   "metadata": {},
   "outputs": [
    {
     "data": {
      "text/html": [
       "<div>\n",
       "<style scoped>\n",
       "    .dataframe tbody tr th:only-of-type {\n",
       "        vertical-align: middle;\n",
       "    }\n",
       "\n",
       "    .dataframe tbody tr th {\n",
       "        vertical-align: top;\n",
       "    }\n",
       "\n",
       "    .dataframe thead th {\n",
       "        text-align: right;\n",
       "    }\n",
       "</style>\n",
       "<table border=\"1\" class=\"dataframe\">\n",
       "  <thead>\n",
       "    <tr style=\"text-align: right;\">\n",
       "      <th></th>\n",
       "      <th>Make</th>\n",
       "      <th>Model</th>\n",
       "      <th>Year</th>\n",
       "      <th>Engine Fuel Type</th>\n",
       "      <th>Engine HP</th>\n",
       "      <th>Engine Cylinders</th>\n",
       "      <th>Transmission Type</th>\n",
       "      <th>Driven_Wheels</th>\n",
       "      <th>Number of Doors</th>\n",
       "      <th>Market Category</th>\n",
       "      <th>Vehicle Size</th>\n",
       "      <th>Vehicle Style</th>\n",
       "      <th>highway MPG</th>\n",
       "      <th>city mpg</th>\n",
       "      <th>Popularity</th>\n",
       "      <th>MSRP</th>\n",
       "    </tr>\n",
       "  </thead>\n",
       "  <tbody>\n",
       "    <tr>\n",
       "      <th>0</th>\n",
       "      <td>BMW</td>\n",
       "      <td>1 Series M</td>\n",
       "      <td>2011</td>\n",
       "      <td>premium unleaded (required)</td>\n",
       "      <td>335.0</td>\n",
       "      <td>6.0</td>\n",
       "      <td>MANUAL</td>\n",
       "      <td>rear wheel drive</td>\n",
       "      <td>2.0</td>\n",
       "      <td>Factory Tuner,Luxury,High-Performance</td>\n",
       "      <td>Compact</td>\n",
       "      <td>Coupe</td>\n",
       "      <td>26</td>\n",
       "      <td>19</td>\n",
       "      <td>3916</td>\n",
       "      <td>46135</td>\n",
       "    </tr>\n",
       "    <tr>\n",
       "      <th>1</th>\n",
       "      <td>BMW</td>\n",
       "      <td>1 Series</td>\n",
       "      <td>2011</td>\n",
       "      <td>premium unleaded (required)</td>\n",
       "      <td>300.0</td>\n",
       "      <td>6.0</td>\n",
       "      <td>MANUAL</td>\n",
       "      <td>rear wheel drive</td>\n",
       "      <td>2.0</td>\n",
       "      <td>Luxury,Performance</td>\n",
       "      <td>Compact</td>\n",
       "      <td>Convertible</td>\n",
       "      <td>28</td>\n",
       "      <td>19</td>\n",
       "      <td>3916</td>\n",
       "      <td>40650</td>\n",
       "    </tr>\n",
       "    <tr>\n",
       "      <th>2</th>\n",
       "      <td>BMW</td>\n",
       "      <td>1 Series</td>\n",
       "      <td>2011</td>\n",
       "      <td>premium unleaded (required)</td>\n",
       "      <td>300.0</td>\n",
       "      <td>6.0</td>\n",
       "      <td>MANUAL</td>\n",
       "      <td>rear wheel drive</td>\n",
       "      <td>2.0</td>\n",
       "      <td>Luxury,High-Performance</td>\n",
       "      <td>Compact</td>\n",
       "      <td>Coupe</td>\n",
       "      <td>28</td>\n",
       "      <td>20</td>\n",
       "      <td>3916</td>\n",
       "      <td>36350</td>\n",
       "    </tr>\n",
       "    <tr>\n",
       "      <th>3</th>\n",
       "      <td>BMW</td>\n",
       "      <td>1 Series</td>\n",
       "      <td>2011</td>\n",
       "      <td>premium unleaded (required)</td>\n",
       "      <td>230.0</td>\n",
       "      <td>6.0</td>\n",
       "      <td>MANUAL</td>\n",
       "      <td>rear wheel drive</td>\n",
       "      <td>2.0</td>\n",
       "      <td>Luxury,Performance</td>\n",
       "      <td>Compact</td>\n",
       "      <td>Coupe</td>\n",
       "      <td>28</td>\n",
       "      <td>18</td>\n",
       "      <td>3916</td>\n",
       "      <td>29450</td>\n",
       "    </tr>\n",
       "    <tr>\n",
       "      <th>4</th>\n",
       "      <td>BMW</td>\n",
       "      <td>1 Series</td>\n",
       "      <td>2011</td>\n",
       "      <td>premium unleaded (required)</td>\n",
       "      <td>230.0</td>\n",
       "      <td>6.0</td>\n",
       "      <td>MANUAL</td>\n",
       "      <td>rear wheel drive</td>\n",
       "      <td>2.0</td>\n",
       "      <td>Luxury</td>\n",
       "      <td>Compact</td>\n",
       "      <td>Convertible</td>\n",
       "      <td>28</td>\n",
       "      <td>18</td>\n",
       "      <td>3916</td>\n",
       "      <td>34500</td>\n",
       "    </tr>\n",
       "  </tbody>\n",
       "</table>\n",
       "</div>"
      ],
      "text/plain": [
       "  Make       Model  Year             Engine Fuel Type  Engine HP  \\\n",
       "0  BMW  1 Series M  2011  premium unleaded (required)      335.0   \n",
       "1  BMW    1 Series  2011  premium unleaded (required)      300.0   \n",
       "2  BMW    1 Series  2011  premium unleaded (required)      300.0   \n",
       "3  BMW    1 Series  2011  premium unleaded (required)      230.0   \n",
       "4  BMW    1 Series  2011  premium unleaded (required)      230.0   \n",
       "\n",
       "   Engine Cylinders Transmission Type     Driven_Wheels  Number of Doors  \\\n",
       "0               6.0            MANUAL  rear wheel drive              2.0   \n",
       "1               6.0            MANUAL  rear wheel drive              2.0   \n",
       "2               6.0            MANUAL  rear wheel drive              2.0   \n",
       "3               6.0            MANUAL  rear wheel drive              2.0   \n",
       "4               6.0            MANUAL  rear wheel drive              2.0   \n",
       "\n",
       "                         Market Category Vehicle Size Vehicle Style  \\\n",
       "0  Factory Tuner,Luxury,High-Performance      Compact         Coupe   \n",
       "1                     Luxury,Performance      Compact   Convertible   \n",
       "2                Luxury,High-Performance      Compact         Coupe   \n",
       "3                     Luxury,Performance      Compact         Coupe   \n",
       "4                                 Luxury      Compact   Convertible   \n",
       "\n",
       "   highway MPG  city mpg  Popularity   MSRP  \n",
       "0           26        19        3916  46135  \n",
       "1           28        19        3916  40650  \n",
       "2           28        20        3916  36350  \n",
       "3           28        18        3916  29450  \n",
       "4           28        18        3916  34500  "
      ]
     },
     "execution_count": 3,
     "metadata": {},
     "output_type": "execute_result"
    }
   ],
   "source": [
    "## Let's see what we are working with\n",
    "\n",
    "df_raw.head()"
   ]
  },
  {
   "cell_type": "code",
   "execution_count": 4,
   "metadata": {},
   "outputs": [
    {
     "name": "stdout",
     "output_type": "stream",
     "text": [
      "<class 'pandas.core.frame.DataFrame'>\n",
      "RangeIndex: 11914 entries, 0 to 11913\n",
      "Data columns (total 16 columns):\n",
      " #   Column             Non-Null Count  Dtype  \n",
      "---  ------             --------------  -----  \n",
      " 0   Make               11914 non-null  object \n",
      " 1   Model              11914 non-null  object \n",
      " 2   Year               11914 non-null  int64  \n",
      " 3   Engine Fuel Type   11911 non-null  object \n",
      " 4   Engine HP          11845 non-null  float64\n",
      " 5   Engine Cylinders   11884 non-null  float64\n",
      " 6   Transmission Type  11914 non-null  object \n",
      " 7   Driven_Wheels      11914 non-null  object \n",
      " 8   Number of Doors    11908 non-null  float64\n",
      " 9   Market Category    8172 non-null   object \n",
      " 10  Vehicle Size       11914 non-null  object \n",
      " 11  Vehicle Style      11914 non-null  object \n",
      " 12  highway MPG        11914 non-null  int64  \n",
      " 13  city mpg           11914 non-null  int64  \n",
      " 14  Popularity         11914 non-null  int64  \n",
      " 15  MSRP               11914 non-null  int64  \n",
      "dtypes: float64(3), int64(5), object(8)\n",
      "memory usage: 1.5+ MB\n"
     ]
    }
   ],
   "source": [
    "## Check out data distribution\n",
    "\n",
    "df_raw.info()"
   ]
  },
  {
   "cell_type": "code",
   "execution_count": 5,
   "metadata": {},
   "outputs": [
    {
     "data": {
      "image/png": "[encoded data removed]",
      "text/plain": [
       "<Figure size 432x288 with 1 Axes>"
      ]
     },
     "metadata": {
      "needs_background": "light"
     },
     "output_type": "display_data"
    }
   ],
   "source": [
    "## 'MSRP' is a regression target\n",
    "## Let's look at its distribution\n",
    "\n",
    "df_raw['MSRP'].hist(bins=100);"
   ]
  },
  {
   "cell_type": "code",
   "execution_count": 6,
   "metadata": {},
   "outputs": [
    {
     "data": {
      "image/png": "[encoded data removed]",
      "text/plain": [
       "<Figure size 432x288 with 1 Axes>"
      ]
     },
     "metadata": {
      "needs_background": "light"
     },
     "output_type": "display_data"
    }
   ],
   "source": [
    "## Closer target inspection; clearly some outliers\n",
    "\n",
    "mask = df_raw['MSRP'] < 250000\n",
    "df_raw[mask]['MSRP'].hist(bins=100);"
   ]
  },
  {
   "cell_type": "code",
   "execution_count": 7,
   "metadata": {},
   "outputs": [
    {
     "data": {
      "text/plain": [
       "Chevrolet        1123\n",
       "Ford              881\n",
       "Volkswagen        809\n",
       "Toyota            746\n",
       "Dodge             626\n",
       "Nissan            558\n",
       "GMC               515\n",
       "Honda             449\n",
       "Mazda             423\n",
       "Cadillac          397\n",
       "Mercedes-Benz     353\n",
       "Suzuki            351\n",
       "BMW               334\n",
       "Infiniti          330\n",
       "Audi              328\n",
       "Hyundai           303\n",
       "Volvo             281\n",
       "Subaru            256\n",
       "Acura             252\n",
       "Kia               231\n",
       "Mitsubishi        213\n",
       "Lexus             202\n",
       "Buick             196\n",
       "Chrysler          187\n",
       "Pontiac           186\n",
       "Lincoln           164\n",
       "Oldsmobile        150\n",
       "Land Rover        143\n",
       "Porsche           136\n",
       "Saab              111\n",
       "Aston Martin       93\n",
       "Plymouth           82\n",
       "Bentley            74\n",
       "Ferrari            69\n",
       "FIAT               62\n",
       "Scion              60\n",
       "Maserati           58\n",
       "Lamborghini        52\n",
       "Rolls-Royce        31\n",
       "Lotus              29\n",
       "Tesla              18\n",
       "HUMMER             17\n",
       "Maybach            16\n",
       "Alfa Romeo          5\n",
       "McLaren             5\n",
       "Spyker              3\n",
       "Bugatti             3\n",
       "Genesis             3\n",
       "Name: Make, dtype: int64"
      ]
     },
     "execution_count": 7,
     "metadata": {},
     "output_type": "execute_result"
    }
   ],
   "source": [
    "## 'Make' can be a classification target\n",
    "## Let's see its distribution as well\n",
    "\n",
    "df_raw['Make'].value_counts()"
   ]
  },
  {
   "cell_type": "code",
   "execution_count": 8,
   "metadata": {},
   "outputs": [
    {
     "data": {
      "text/plain": [
       "1385    1123\n",
       "5657     881\n",
       "873      809\n",
       "2031     746\n",
       "1851     626\n",
       "2009     558\n",
       "549      515\n",
       "2202     449\n",
       "586      423\n",
       "1624     397\n",
       "617      353\n",
       "481      351\n",
       "3916     334\n",
       "190      330\n",
       "3105     328\n",
       "1439     303\n",
       "870      281\n",
       "640      256\n",
       "204      252\n",
       "1720     231\n",
       "436      213\n",
       "454      202\n",
       "155      196\n",
       "1013     187\n",
       "210      186\n",
       "61       164\n",
       "26       150\n",
       "258      143\n",
       "1715     136\n",
       "376      111\n",
       "259       93\n",
       "535       82\n",
       "520       74\n",
       "2774      69\n",
       "819       62\n",
       "105       60\n",
       "238       58\n",
       "1158      52\n",
       "86        31\n",
       "613       29\n",
       "1391      18\n",
       "130       17\n",
       "67        16\n",
       "416        5\n",
       "113        5\n",
       "21         3\n",
       "820        3\n",
       "2          3\n",
       "Name: Popularity, dtype: int64"
      ]
     },
     "execution_count": 8,
     "metadata": {},
     "output_type": "execute_result"
    }
   ],
   "source": [
    "## Not sure what 'Popularity' is; closer look\n",
    "\n",
    "df_raw['Popularity'].value_counts() ## Counts exaclty match 'Make' distribution"
   ]
  },
  {
   "cell_type": "code",
   "execution_count": 9,
   "metadata": {},
   "outputs": [
    {
     "data": {
      "image/png": "[encoded data removed]",
      "text/plain": [
       "<Figure size 432x288 with 1 Axes>"
      ]
     },
     "metadata": {
      "needs_background": "light"
     },
     "output_type": "display_data"
    }
   ],
   "source": [
    "## Look for feature correlation (using above mask)\n",
    "\n",
    "df_raw[mask].plot.scatter('MSRP', 'Engine HP');"
   ]
  },
  {
   "cell_type": "code",
   "execution_count": 10,
   "metadata": {},
   "outputs": [
    {
     "data": {
      "image/png": "[encoded data removed]",
      "text/plain": [
       "<Figure size 432x288 with 1 Axes>"
      ]
     },
     "metadata": {
      "needs_background": "light"
     },
     "output_type": "display_data"
    }
   ],
   "source": [
    "## Another feature\n",
    "\n",
    "df_raw[mask].plot.scatter('MSRP', 'highway MPG'); ## Clearly no correlation"
   ]
  },
  {
   "cell_type": "code",
   "execution_count": 11,
   "metadata": {},
   "outputs": [
    {
     "data": {
      "text/plain": [
       "Vehicle Size           3\n",
       "Driven_Wheels          4\n",
       "Transmission Type      5\n",
       "Engine Fuel Type      10\n",
       "Vehicle Style         16\n",
       "Make                  48\n",
       "Market Category       71\n",
       "Model                915\n",
       "dtype: int64"
      ]
     },
     "execution_count": 11,
     "metadata": {},
     "output_type": "execute_result"
    }
   ],
   "source": [
    "## Categorical column info\n",
    "\n",
    "df_raw.select_dtypes('object').nunique().sort_values()"
   ]
  },
  {
   "cell_type": "code",
   "execution_count": 12,
   "metadata": {},
   "outputs": [
    {
     "data": {
      "text/plain": [
       "Silverado 1500                 156\n",
       "Tundra                         140\n",
       "F-150                          126\n",
       "Sierra 1500                     90\n",
       "Beetle Convertible              89\n",
       "                              ... \n",
       "Supersports Convertible ISR      1\n",
       "Azure T                          1\n",
       "Accord Plug-In Hybrid            1\n",
       "Precis                           1\n",
       "650S Coupe                       1\n",
       "Name: Model, Length: 915, dtype: int64"
      ]
     },
     "execution_count": 12,
     "metadata": {},
     "output_type": "execute_result"
    }
   ],
   "source": [
    "## 'Model' looks to be a culprit of leakage\n",
    "## Not so much for regression but would be very guilty for classification\n",
    "\n",
    "df_raw['Model'].value_counts()"
   ]
  },
  {
   "cell_type": "markdown",
   "metadata": {},
   "source": [
    "## Feature Engineering"
   ]
  },
  {
   "cell_type": "code",
   "execution_count": 13,
   "metadata": {},
   "outputs": [
    {
     "data": {
      "text/plain": [
       "Crossover                                          1110\n",
       "Flex Fuel                                           872\n",
       "Luxury                                              855\n",
       "Luxury,Performance                                  673\n",
       "Hatchback                                           641\n",
       "                                                   ... \n",
       "Crossover,Exotic,Luxury,Performance                   1\n",
       "Exotic,Luxury,High-Performance,Hybrid                 1\n",
       "Performance,Hybrid                                    1\n",
       "Flex Fuel,Factory Tuner,Luxury,High-Performance       1\n",
       "Crossover,Exotic,Luxury,High-Performance              1\n",
       "Name: Market Category, Length: 71, dtype: int64"
      ]
     },
     "execution_count": 13,
     "metadata": {},
     "output_type": "execute_result"
    }
   ],
   "source": [
    "## 'Market Category' can be reduced, encoded and used in a different way\n",
    "\n",
    "df_raw['Market Category'].value_counts()"
   ]
  },
  {
   "cell_type": "code",
   "execution_count": 14,
   "metadata": {},
   "outputs": [],
   "source": [
    "## Difference in highway and city mpg\n",
    "\n",
    "df_raw['lost_mpg'] = df_raw['highway MPG'] - df_raw['city mpg']"
   ]
  },
  {
   "cell_type": "markdown",
   "metadata": {},
   "source": [
    "# Wrangle Data\n",
    "\n",
    "- Pass raw DataFrame through below wrangle function for the new, cleaned dataset"
   ]
  },
  {
   "cell_type": "code",
   "execution_count": 15,
   "metadata": {},
   "outputs": [],
   "source": [
    "def wrangle(df):\n",
    "    \n",
    "    ## Create a copy to preserve raw data\n",
    "    df = df.copy()\n",
    "    \n",
    "    ## Fix column names\n",
    "    df.columns = df.columns.str.lower().str.replace(' ', '_')\n",
    "    \n",
    "    ## Remove Outliers\n",
    "    df = df[df['msrp'] <= 75000]\n",
    "    \n",
    "    ## Reduce high cardinality in 'make'\n",
    "    df['make'] = [x if x in list(df['make'].value_counts().sort_values().tail(5).index) else 'Other' for x in df['make']]\n",
    "    \n",
    "    ## Reduce high cardinality in 'market_category' (maybe remove NaN's)\n",
    "    df['luxury'] = [1 if 'Luxury' in x else 0 for x in df['market_category'].fillna('X')]\n",
    "    \n",
    "    ## 'Model' is going to allow for leakage in a way\n",
    "    ## Remove 'market_category' due to addition of 'luxury'\n",
    "    df.drop(columns=['model', 'market_category'], inplace=True)\n",
    "    \n",
    "    ## Lower all text case for easier readability and manipulation\n",
    "    for col in df.select_dtypes('object'):\n",
    "        df[col] = df[col].str.lower()\n",
    "    \n",
    "    return df"
   ]
  },
  {
   "cell_type": "code",
   "execution_count": 16,
   "metadata": {},
   "outputs": [],
   "source": [
    "## Show this data who's boss\n",
    "\n",
    "df = wrangle(df_raw)"
   ]
  },
  {
   "cell_type": "code",
   "execution_count": 17,
   "metadata": {},
   "outputs": [
    {
     "data": {
      "text/html": [
       "<div>\n",
       "<style scoped>\n",
       "    .dataframe tbody tr th:only-of-type {\n",
       "        vertical-align: middle;\n",
       "    }\n",
       "\n",
       "    .dataframe tbody tr th {\n",
       "        vertical-align: top;\n",
       "    }\n",
       "\n",
       "    .dataframe thead th {\n",
       "        text-align: right;\n",
       "    }\n",
       "</style>\n",
       "<table border=\"1\" class=\"dataframe\">\n",
       "  <thead>\n",
       "    <tr style=\"text-align: right;\">\n",
       "      <th></th>\n",
       "      <th>make</th>\n",
       "      <th>year</th>\n",
       "      <th>engine_fuel_type</th>\n",
       "      <th>engine_hp</th>\n",
       "      <th>engine_cylinders</th>\n",
       "      <th>transmission_type</th>\n",
       "      <th>driven_wheels</th>\n",
       "      <th>number_of_doors</th>\n",
       "      <th>vehicle_size</th>\n",
       "      <th>vehicle_style</th>\n",
       "      <th>highway_mpg</th>\n",
       "      <th>city_mpg</th>\n",
       "      <th>popularity</th>\n",
       "      <th>msrp</th>\n",
       "      <th>lost_mpg</th>\n",
       "      <th>luxury</th>\n",
       "    </tr>\n",
       "  </thead>\n",
       "  <tbody>\n",
       "    <tr>\n",
       "      <th>0</th>\n",
       "      <td>other</td>\n",
       "      <td>2011</td>\n",
       "      <td>premium unleaded (required)</td>\n",
       "      <td>335.0</td>\n",
       "      <td>6.0</td>\n",
       "      <td>manual</td>\n",
       "      <td>rear wheel drive</td>\n",
       "      <td>2.0</td>\n",
       "      <td>compact</td>\n",
       "      <td>coupe</td>\n",
       "      <td>26</td>\n",
       "      <td>19</td>\n",
       "      <td>3916</td>\n",
       "      <td>46135</td>\n",
       "      <td>7</td>\n",
       "      <td>1</td>\n",
       "    </tr>\n",
       "    <tr>\n",
       "      <th>1</th>\n",
       "      <td>other</td>\n",
       "      <td>2011</td>\n",
       "      <td>premium unleaded (required)</td>\n",
       "      <td>300.0</td>\n",
       "      <td>6.0</td>\n",
       "      <td>manual</td>\n",
       "      <td>rear wheel drive</td>\n",
       "      <td>2.0</td>\n",
       "      <td>compact</td>\n",
       "      <td>convertible</td>\n",
       "      <td>28</td>\n",
       "      <td>19</td>\n",
       "      <td>3916</td>\n",
       "      <td>40650</td>\n",
       "      <td>9</td>\n",
       "      <td>1</td>\n",
       "    </tr>\n",
       "    <tr>\n",
       "      <th>2</th>\n",
       "      <td>other</td>\n",
       "      <td>2011</td>\n",
       "      <td>premium unleaded (required)</td>\n",
       "      <td>300.0</td>\n",
       "      <td>6.0</td>\n",
       "      <td>manual</td>\n",
       "      <td>rear wheel drive</td>\n",
       "      <td>2.0</td>\n",
       "      <td>compact</td>\n",
       "      <td>coupe</td>\n",
       "      <td>28</td>\n",
       "      <td>20</td>\n",
       "      <td>3916</td>\n",
       "      <td>36350</td>\n",
       "      <td>8</td>\n",
       "      <td>1</td>\n",
       "    </tr>\n",
       "    <tr>\n",
       "      <th>3</th>\n",
       "      <td>other</td>\n",
       "      <td>2011</td>\n",
       "      <td>premium unleaded (required)</td>\n",
       "      <td>230.0</td>\n",
       "      <td>6.0</td>\n",
       "      <td>manual</td>\n",
       "      <td>rear wheel drive</td>\n",
       "      <td>2.0</td>\n",
       "      <td>compact</td>\n",
       "      <td>coupe</td>\n",
       "      <td>28</td>\n",
       "      <td>18</td>\n",
       "      <td>3916</td>\n",
       "      <td>29450</td>\n",
       "      <td>10</td>\n",
       "      <td>1</td>\n",
       "    </tr>\n",
       "    <tr>\n",
       "      <th>4</th>\n",
       "      <td>other</td>\n",
       "      <td>2011</td>\n",
       "      <td>premium unleaded (required)</td>\n",
       "      <td>230.0</td>\n",
       "      <td>6.0</td>\n",
       "      <td>manual</td>\n",
       "      <td>rear wheel drive</td>\n",
       "      <td>2.0</td>\n",
       "      <td>compact</td>\n",
       "      <td>convertible</td>\n",
       "      <td>28</td>\n",
       "      <td>18</td>\n",
       "      <td>3916</td>\n",
       "      <td>34500</td>\n",
       "      <td>10</td>\n",
       "      <td>1</td>\n",
       "    </tr>\n",
       "  </tbody>\n",
       "</table>\n",
       "</div>"
      ],
      "text/plain": [
       "    make  year             engine_fuel_type  engine_hp  engine_cylinders  \\\n",
       "0  other  2011  premium unleaded (required)      335.0               6.0   \n",
       "1  other  2011  premium unleaded (required)      300.0               6.0   \n",
       "2  other  2011  premium unleaded (required)      300.0               6.0   \n",
       "3  other  2011  premium unleaded (required)      230.0               6.0   \n",
       "4  other  2011  premium unleaded (required)      230.0               6.0   \n",
       "\n",
       "  transmission_type     driven_wheels  number_of_doors vehicle_size  \\\n",
       "0            manual  rear wheel drive              2.0      compact   \n",
       "1            manual  rear wheel drive              2.0      compact   \n",
       "2            manual  rear wheel drive              2.0      compact   \n",
       "3            manual  rear wheel drive              2.0      compact   \n",
       "4            manual  rear wheel drive              2.0      compact   \n",
       "\n",
       "  vehicle_style  highway_mpg  city_mpg  popularity   msrp  lost_mpg  luxury  \n",
       "0         coupe           26        19        3916  46135         7       1  \n",
       "1   convertible           28        19        3916  40650         9       1  \n",
       "2         coupe           28        20        3916  36350         8       1  \n",
       "3         coupe           28        18        3916  29450        10       1  \n",
       "4   convertible           28        18        3916  34500        10       1  "
      ]
     },
     "execution_count": 17,
     "metadata": {},
     "output_type": "execute_result"
    }
   ],
   "source": [
    "## Check it out\n",
    "\n",
    "df.head()"
   ]
  },
  {
   "cell_type": "markdown",
   "metadata": {},
   "source": [
    "# Split Data\n",
    "\n",
    "- Target Vector: 'msrp'\n",
    "- Feature Matrix: everything else\n",
    "- We will use an 80/20 train-test split"
   ]
  },
  {
   "cell_type": "code",
   "execution_count": 18,
   "metadata": {},
   "outputs": [],
   "source": [
    "## Split data into target vector and feature matrix\n",
    "\n",
    "target = 'msrp'\n",
    "y = df[target]\n",
    "X = df.drop(columns=target)"
   ]
  },
  {
   "cell_type": "code",
   "execution_count": 19,
   "metadata": {},
   "outputs": [],
   "source": [
    "## Split data 80/20 and set a random state to get same results\n",
    "\n",
    "X_train, X_test, y_train, y_test = train_test_split(X, y, test_size=0.2, random_state=42)"
   ]
  },
  {
   "cell_type": "code",
   "execution_count": 20,
   "metadata": {},
   "outputs": [],
   "source": [
    "## Assert that splits were made properly\n",
    "\n",
    "assert y.shape == (len(y),)\n",
    "assert len(X_train) + len(X_test) == len(X)\n",
    "assert len(y_train) + len(y_test) == len(y)"
   ]
  },
  {
   "cell_type": "markdown",
   "metadata": {},
   "source": [
    "# Establish Baseline\n",
    "\n",
    "- How far off will our model be if it could only predict the average price?"
   ]
  },
  {
   "cell_type": "code",
   "execution_count": 31,
   "metadata": {},
   "outputs": [
    {
     "name": "stdout",
     "output_type": "stream",
     "text": [
      "Baseline MAE: $12425.352918853203\n"
     ]
    }
   ],
   "source": [
    "y_base = [y.mean()] * len(y)\n",
    "print(f'Baseline MAE: ${mean_absolute_error(y, y_base)}')"
   ]
  },
  {
   "cell_type": "markdown",
   "metadata": {},
   "source": [
    "# Build Models\n",
    "\n",
    "- According to target variable, we require regression for our task\n",
    "- We will use both Linear Regression and a boost regression model to optimize our goal\n",
    "- We will require transformers such as: Ordinal Encoder (for categorical columns), Imputer (to impute missing values), and a Scaler (to regularize our coefficients)"
   ]
  },
  {
   "cell_type": "code",
   "execution_count": 21,
   "metadata": {},
   "outputs": [],
   "source": [
    "## Build our first model pipeline using the required predictor and transformers\n",
    "## Then fit out model to the training data\n",
    "\n",
    "lr = make_pipeline(\n",
    "    OrdinalEncoder(),\n",
    "    SimpleImputer(),\n",
    "    StandardScaler(),\n",
    "    LinearRegression()\n",
    ")\n",
    "\n",
    "lr.fit(X_train, y_train);"
   ]
  },
  {
   "cell_type": "code",
   "execution_count": 142,
   "metadata": {},
   "outputs": [],
   "source": [
    "## Build our second model pipeline and fit to training data\n",
    "\n",
    "gbr = make_pipeline(\n",
    "    OrdinalEncoder(),\n",
    "    SimpleImputer(),\n",
    "    StandardScaler(),\n",
    "    GradientBoostingRegressor(loss='ls',\n",
    "                             n_estimators=235,\n",
    "                             subsample=0.7,\n",
    "                             max_depth=6,\n",
    "                             random_state=42)\n",
    ")\n",
    "\n",
    "gbr.fit(X_train, y_train);"
   ]
  },
  {
   "cell_type": "code",
   "execution_count": 137,
   "metadata": {},
   "outputs": [
    {
     "name": "stdout",
     "output_type": "stream",
     "text": [
      "[14:04:29] WARNING: src/objective/regression_obj.cu:152: reg:linear is now deprecated in favor of reg:squarederror.\n"
     ]
    }
   ],
   "source": [
    "## Build third model pipeline and fit to training data\n",
    "\n",
    "xgb = make_pipeline(\n",
    "    OrdinalEncoder(),\n",
    "    SimpleImputer(),\n",
    "    StandardScaler(),\n",
    "    XGBRegressor(subsample=0.6,\n",
    "                max_depth=7)\n",
    ")\n",
    "\n",
    "xgb.fit(X_train, y_train);"
   ]
  },
  {
   "cell_type": "markdown",
   "metadata": {},
   "source": [
    "# Check Metrics\n",
    "\n",
    "- The best metrics to evaluate these models will be mean absolute error and $R^2$\n",
    "- Mean absolute error will tell us generally how far off we are in our predictions\n",
    "- $R^2$ will tell us how much of the variance in the data is explained by our model"
   ]
  },
  {
   "cell_type": "code",
   "execution_count": 122,
   "metadata": {},
   "outputs": [
    {
     "name": "stdout",
     "output_type": "stream",
     "text": [
      "LR Training MAE: $5457.355691281245\n",
      "LR Test MAE: $5478.495571707722\n",
      "\n",
      "LR Training R^2: 79.93%\n",
      "LR Test R^2: 79.56%\n"
     ]
    }
   ],
   "source": [
    "print(f'LR Training MAE: ${mean_absolute_error(y_train, lr.predict(X_train))}')\n",
    "print(f'LR Test MAE: ${mean_absolute_error(y_test, lr.predict(X_test))}')\n",
    "print(f'\\nLR Training R^2: {round(r2_score(y_train, lr.predict(X_train))*100, 2)}%')\n",
    "print(f'LR Test R^2: {round(r2_score(y_test, lr.predict(X_test))*100, 2)}%')"
   ]
  },
  {
   "cell_type": "code",
   "execution_count": 144,
   "metadata": {},
   "outputs": [],
   "source": [
    "## With default params:\n",
    "## test mae = 3161\n",
    "## test r2 = 92.12\n",
    "\n",
    "## With loss='ls' & n_estimators=235 & subsample=0.7 & max_depth=5\n",
    "## test mae = 2177\n",
    "## test r2 = 95.99"
   ]
  },
  {
   "cell_type": "code",
   "execution_count": 143,
   "metadata": {
    "scrolled": true
   },
   "outputs": [
    {
     "name": "stdout",
     "output_type": "stream",
     "text": [
      "Boost Training MAE: $1627.9903178665122\n",
      "Boost Test MAE: $2177.2528580859425\n",
      "\n",
      "Boost Training R^2: 97.96%\n",
      "Boost Test R^2: 95.99%\n"
     ]
    }
   ],
   "source": [
    "print(f'Boost Training MAE: ${mean_absolute_error(y_train, gbr.predict(X_train))}')\n",
    "print(f'Boost Test MAE: ${mean_absolute_error(y_test, gbr.predict(X_test))}')\n",
    "print(f'\\nBoost Training R^2: {round(r2_score(y_train, gbr.predict(X_train))*100, 2)}%')\n",
    "print(f'Boost Test R^2: {round(r2_score(y_test, gbr.predict(X_test))*100, 2)}%')"
   ]
  },
  {
   "cell_type": "code",
   "execution_count": 145,
   "metadata": {},
   "outputs": [],
   "source": [
    "## With default params:\n",
    "## test mae = 3183\n",
    "## test r2 = 92.02\n",
    "\n",
    "## With subsample=0.6 & max_depth=7\n",
    "## test mae = 2244\n",
    "## test r2 = 95.88"
   ]
  },
  {
   "cell_type": "code",
   "execution_count": 138,
   "metadata": {},
   "outputs": [
    {
     "name": "stdout",
     "output_type": "stream",
     "text": [
      "XGBoost Training MAE: $1753.0993710080652\n",
      "XGBoost Test MAE: $2244.5278909752064\n",
      "\n",
      "XGBoost Training R^2: 97.63%\n",
      "XGBoost Test R^2: 95.88%\n"
     ]
    }
   ],
   "source": [
    "print(f'XGBoost Training MAE: ${mean_absolute_error(y_train, xgb.predict(X_train))}')\n",
    "print(f'XGBoost Test MAE: ${mean_absolute_error(y_test, xgb.predict(X_test))}')\n",
    "print(f'\\nXGBoost Training R^2: {round(r2_score(y_train, xgb.predict(X_train))*100, 2)}%')\n",
    "print(f'XGBoost Test R^2: {round(r2_score(y_test, xgb.predict(X_test))*100, 2)}%')"
   ]
  },
  {
   "cell_type": "markdown",
   "metadata": {},
   "source": [
    "# Hyperparameter Tuning\n",
    "\n",
    "- Our Gradient Boosting Regressor seems to be our best model\n",
    "- We can still try to improve it however"
   ]
  },
  {
   "cell_type": "code",
   "execution_count": 139,
   "metadata": {},
   "outputs": [
    {
     "name": "stderr",
     "output_type": "stream",
     "text": [
      "C:\\Users\\dakot\\anaconda3\\envs\\unit2\\lib\\site-packages\\category_encoders\\utils.py:21: FutureWarning: is_categorical is deprecated and will be removed in a future version.  Use is_categorical_dtype instead\n",
      "  elif pd.api.types.is_categorical(cols):\n"
     ]
    },
    {
     "data": {
      "text/plain": [
       "{'gradientboostingregressor__subsample': 0.6,\n",
       " 'gradientboostingregressor__n_estimators': 225,\n",
       " 'gradientboostingregressor__max_depth': 6}"
      ]
     },
     "execution_count": 139,
     "metadata": {},
     "output_type": "execute_result"
    }
   ],
   "source": [
    "## Choose the hyperparameters in which we want to test for GBR\n",
    "\n",
    "param_grid = {\n",
    "    'gradientboostingregressor__n_estimators': range(225, 251, 5),\n",
    "    'gradientboostingregressor__subsample': np.arange(0.4, 0.8, 0.1),\n",
    "    'gradientboostingregressor__max_depth': range(5, 10)\n",
    "}\n",
    "\n",
    "## Conduct a RandomizedSearchCV\n",
    "\n",
    "gbr_rs = RandomizedSearchCV(\n",
    "    gbr,\n",
    "    param_grid,\n",
    "    n_iter=10,\n",
    "    n_jobs=3,\n",
    "    random_state=42\n",
    ")\n",
    "\n",
    "gbr_rs.fit(X_train, y_train);\n",
    "\n",
    "## Retrieve best parameters\n",
    "gbr_rs.best_params_"
   ]
  },
  {
   "cell_type": "code",
   "execution_count": 136,
   "metadata": {},
   "outputs": [
    {
     "name": "stderr",
     "output_type": "stream",
     "text": [
      "C:\\Users\\dakot\\anaconda3\\envs\\unit2\\lib\\site-packages\\category_encoders\\utils.py:21: FutureWarning: is_categorical is deprecated and will be removed in a future version.  Use is_categorical_dtype instead\n",
      "  elif pd.api.types.is_categorical(cols):\n"
     ]
    },
    {
     "name": "stdout",
     "output_type": "stream",
     "text": [
      "[14:04:15] WARNING: src/objective/regression_obj.cu:152: reg:linear is now deprecated in favor of reg:squarederror.\n"
     ]
    },
    {
     "data": {
      "text/plain": [
       "{'xgbregressor__subsample': 0.6, 'xgbregressor__max_depth': 7}"
      ]
     },
     "execution_count": 136,
     "metadata": {},
     "output_type": "execute_result"
    }
   ],
   "source": [
    "## Choose the hyperparameters in which we want to test for XGB\n",
    "\n",
    "param_grid = {\n",
    "    'xgbregressor__subsample': np.arange(0.4, 0.8, 0.1),\n",
    "    'xgbregressor__max_depth': range(4, 8)\n",
    "}\n",
    "\n",
    "## Conduct a RandomizedSearchCV\n",
    "\n",
    "xgb_rs = RandomizedSearchCV(\n",
    "    xgb,\n",
    "    param_grid,\n",
    "    n_iter=10,\n",
    "    n_jobs=3,\n",
    "    random_state=42\n",
    ")\n",
    "\n",
    "xgb_rs.fit(X_train, y_train);\n",
    "\n",
    "## Retrieve best parameters\n",
    "xgb_rs.best_params_"
   ]
  },
  {
   "cell_type": "markdown",
   "metadata": {},
   "source": [
    "# Communicate Results"
   ]
  },
  {
   "cell_type": "markdown",
   "metadata": {},
   "source": [
    "### Target\n",
    "\n",
    "After gathering the data set, I saw right off the bat that the MSRP column was perfect for a regression model."
   ]
  },
  {
   "cell_type": "markdown",
   "metadata": {},
   "source": [
    "### Metrics\n",
    "\n",
    "In predicting the price of a car given the other variables, we would ideally want to know how far off we are in our predictions. For that, mean absolute error works perfectly. In addition, $R^2$ could help us understand how much of that error or variance is explained by the model."
   ]
  },
  {
   "cell_type": "markdown",
   "metadata": {},
   "source": [
    "### Baseline\n",
    "\n",
    "An easy regression baseline is a naive representation of the target variable mean."
   ]
  },
  {
   "cell_type": "markdown",
   "metadata": {},
   "source": [
    "### Leakage\n",
    "\n",
    "There was not too much leakage or data that could give any extra information to the models that they would not normally have. However, the 'Model' variable is a very unique column and could provide too much information to possibly overfit or leak the data."
   ]
  },
  {
   "cell_type": "markdown",
   "metadata": {},
   "source": [
    "### Practicality\n",
    "\n",
    "My chosen model (Gradient Boosting Regressor) is very useful for an easy numerical prediction."
   ]
  },
  {
   "cell_type": "markdown",
   "metadata": {},
   "source": [
    "### Results\n",
    "\n",
    "The model with the best scores was the Gradient Boosting Regressor. I was able to model the data to predict the price with an average error of about $2,177. In addition, nearly 96\\% of the variance in the data is explained by this particular model."
   ]
  }
 ],
 "metadata": {
  "kernelspec": {
   "display_name": "Python 3",
   "language": "python",
   "name": "python3"
  },
  "language_info": {
   "codemirror_mode": {
    "name": "ipython",
    "version": 3
   },
   "file_extension": ".py",
   "mimetype": "text/x-python",
   "name": "python",
   "nbconvert_exporter": "python",
   "pygments_lexer": "ipython3",
   "version": "3.7.9"
  }
 },
 "nbformat": 4,
 "nbformat_minor": 4
}
